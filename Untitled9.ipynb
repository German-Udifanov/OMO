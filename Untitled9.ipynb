{
 "cells": [
  {
   "cell_type": "code",
   "execution_count": 3,
   "id": "9158522f",
   "metadata": {},
   "outputs": [
    {
     "name": "stdout",
     "output_type": "stream",
     "text": [
      "5\n",
      "[1]\n",
      "[1, 1]\n",
      "[1, 2, 1]\n",
      "[1, 3, 3, 1]\n",
      "[1, 4, 6, 4, 1]\n"
     ]
    }
   ],
   "source": [
    "#1\n",
    "\n",
    "n = int(input())\n",
    "\n",
    "a1 = []\n",
    "\n",
    "for i in range(n):\n",
    "    r = [1]*(i+1)\n",
    "    for j in range(i+1):\n",
    "        if j !=i and j != 0:\n",
    "            r[j] = a1[i-1][j-1] + a1[i-1][j]\n",
    "    a1.append(r)\n",
    "for c in a1:\n",
    "    print(c)"
   ]
  },
  {
   "cell_type": "code",
   "execution_count": 6,
   "id": "9aa4d9a7",
   "metadata": {},
   "outputs": [
    {
     "name": "stdout",
     "output_type": "stream",
     "text": [
      "122\n",
      "123-4+5+6-7+8-9\n",
      "123+4-5-6+7+8-9\n",
      "123+4-5+6-7-8+9\n",
      "12-3+45+67-8+9\n",
      "12+34-5-6+78+9\n",
      "1-2-3+45-6+78+9\n",
      "1-2+34+5+67+8+9\n",
      "1-2+3+45+6+78-9\n",
      "1+2+34-5-6+7+89\n"
     ]
    }
   ],
   "source": [
    "#2\n",
    "\n",
    "m = int(input())\n",
    "\n",
    "for i1 in ['', '-', '+']: \n",
    "    for i2 in ['', '-', '+']: \n",
    "        for i3 in ['', '-', '+']: \n",
    "            for i4 in ['', '-', '+']: \n",
    "                for i5 in ['', '-', '+']: \n",
    "                    for i6 in ['', '-', '+']: \n",
    "                        for i7 in ['', '-', '+']: \n",
    "                            for i8 in ['', '-', '+']: \n",
    "                                s = '1' + i1 + '2' + i2 + '3' + i3 + '4' + i4 + '5' + i5 + '6' + i6 + '7' + i7 + '8' + i8 + '9' \n",
    "                                if eval(s) == m: \n",
    "                                    print(s) \n",
    "                                    exit()\n",
    "\n",
    "\n"
   ]
  },
  {
   "cell_type": "code",
   "execution_count": 21,
   "id": "15bb10eb",
   "metadata": {},
   "outputs": [
    {
     "name": "stdout",
     "output_type": "stream",
     "text": [
      "задайте размер матрицы\n",
      "2\n",
      "1\n",
      "2\n",
      "3\n",
      "4\n",
      "[[1, 2], [3, 4]]\n"
     ]
    }
   ],
   "source": [
    "#3 \n",
    "import numpy as np  \n",
    "print(\"задайте размер матрицы\")\n",
    "\n",
    "n = int(input())\n",
    "\n",
    "a1 = []\n",
    "for j in range(n):\n",
    "    a2 = []\n",
    "    for i in range(n):\n",
    "        c = int(input())\n",
    "        a2.append(c)\n",
    "    a1.append(a2)\n",
    "print(a1)\n"
   ]
  },
  {
   "cell_type": "markdown",
   "id": "95d98269",
   "metadata": {},
   "source": [
    "a = np.linalg.inv(a1)\n"
   ]
  },
  {
   "cell_type": "code",
   "execution_count": 23,
   "id": "777628fb",
   "metadata": {},
   "outputs": [
    {
     "name": "stdout",
     "output_type": "stream",
     "text": [
      "<class 'str'>\n"
     ]
    }
   ],
   "source": [
    "print(type(a))"
   ]
  },
  {
   "cell_type": "code",
   "execution_count": 24,
   "id": "78e3d631",
   "metadata": {},
   "outputs": [
    {
     "name": "stdout",
     "output_type": "stream",
     "text": [
      "<class 'list'>\n"
     ]
    }
   ],
   "source": [
    "print(type(a1))"
   ]
  },
  {
   "cell_type": "code",
   "execution_count": 11,
   "id": "d5d6bd71",
   "metadata": {},
   "outputs": [
    {
     "name": "stdout",
     "output_type": "stream",
     "text": [
      "задайте количество строк матрицы\n",
      "3\n",
      "задайте количество столбцов матрицы\n",
      "4\n"
     ]
    },
    {
     "ename": "TypeError",
     "evalue": "Field elements must be 2- or 3-tuples, got '4'",
     "output_type": "error",
     "traceback": [
      "\u001b[1;31m---------------------------------------------------------------------------\u001b[0m",
      "\u001b[1;31mTypeError\u001b[0m                                 Traceback (most recent call last)",
      "Input \u001b[1;32mIn [11]\u001b[0m, in \u001b[0;36m<cell line: 11>\u001b[1;34m()\u001b[0m\n\u001b[0;32m      7\u001b[0m \u001b[38;5;28mprint\u001b[39m(\u001b[38;5;124m\"\u001b[39m\u001b[38;5;124mзадайте количество столбцов матрицы\u001b[39m\u001b[38;5;124m\"\u001b[39m)\n\u001b[0;32m      9\u001b[0m n2 \u001b[38;5;241m=\u001b[39m \u001b[38;5;28mint\u001b[39m(\u001b[38;5;28minput\u001b[39m())\n\u001b[1;32m---> 11\u001b[0m matr \u001b[38;5;241m=\u001b[39m \u001b[43mnp\u001b[49m\u001b[38;5;241;43m.\u001b[39;49m\u001b[43mmatrix\u001b[49m\u001b[43m(\u001b[49m\u001b[43m[\u001b[49m\u001b[43mn1\u001b[49m\u001b[43m]\u001b[49m\u001b[43m,\u001b[49m\u001b[43m[\u001b[49m\u001b[43mn2\u001b[49m\u001b[43m]\u001b[49m\u001b[43m)\u001b[49m\n\u001b[0;32m     13\u001b[0m \u001b[38;5;28;01mfor\u001b[39;00m j \u001b[38;5;129;01min\u001b[39;00m \u001b[38;5;28mrange\u001b[39m(n):\n\u001b[0;32m     14\u001b[0m     \u001b[38;5;28;01mfor\u001b[39;00m i \u001b[38;5;129;01min\u001b[39;00m \u001b[38;5;28mrange\u001b[39m(n):\n",
      "File \u001b[1;32mD:\\Program Files (x86)\\anaconda\\lib\\site-packages\\numpy\\matrixlib\\defmatrix.py:145\u001b[0m, in \u001b[0;36mmatrix.__new__\u001b[1;34m(subtype, data, dtype, copy)\u001b[0m\n\u001b[0;32m    142\u001b[0m     data \u001b[38;5;241m=\u001b[39m _convert_from_string(data)\n\u001b[0;32m    144\u001b[0m \u001b[38;5;66;03m# now convert data to an array\u001b[39;00m\n\u001b[1;32m--> 145\u001b[0m arr \u001b[38;5;241m=\u001b[39m \u001b[43mN\u001b[49m\u001b[38;5;241;43m.\u001b[39;49m\u001b[43marray\u001b[49m\u001b[43m(\u001b[49m\u001b[43mdata\u001b[49m\u001b[43m,\u001b[49m\u001b[43m \u001b[49m\u001b[43mdtype\u001b[49m\u001b[38;5;241;43m=\u001b[39;49m\u001b[43mdtype\u001b[49m\u001b[43m,\u001b[49m\u001b[43m \u001b[49m\u001b[43mcopy\u001b[49m\u001b[38;5;241;43m=\u001b[39;49m\u001b[43mcopy\u001b[49m\u001b[43m)\u001b[49m\n\u001b[0;32m    146\u001b[0m ndim \u001b[38;5;241m=\u001b[39m arr\u001b[38;5;241m.\u001b[39mndim\n\u001b[0;32m    147\u001b[0m shape \u001b[38;5;241m=\u001b[39m arr\u001b[38;5;241m.\u001b[39mshape\n",
      "\u001b[1;31mTypeError\u001b[0m: Field elements must be 2- or 3-tuples, got '4'"
     ]
    }
   ],
   "source": [
    "#3 \n",
    "import numpy as np  \n",
    "print(\"задайте количество строк матрицы\")\n",
    "\n",
    "n1 = int(input())\n",
    "\n",
    "print(\"задайте количество столбцов матрицы\")\n",
    "\n",
    "n2 = int(input())\n",
    "\n",
    "matr = np.matrix([n1],[n2])\n",
    "\n",
    "for j in range(n):\n",
    "    for i in range(n):\n",
    "        c = int(input())\n",
    "        matr.append(c)\n",
    "print(matr)\n",
    "\n",
    "determinant = np.linalg.det(matrix)\n",
    "\n",
    "if determinant == 0:\n",
    "         print(\"The matrix does not have an inverse.\")\n",
    "else:\n",
    "         result = np.linalg.inv(matrix)\n",
    "         print(result)"
   ]
  },
  {
   "cell_type": "code",
   "execution_count": 6,
   "id": "c73892b7",
   "metadata": {},
   "outputs": [
    {
     "name": "stdout",
     "output_type": "stream",
     "text": [
      "1\n",
      "2\n",
      "3\n",
      "4\n",
      "[[-2.   1. ]\n",
      " [ 1.5 -0.5]]\n"
     ]
    }
   ],
   "source": [
    "#3 \n",
    "import numpy as np \n",
    "n1 = int(input())\n",
    "n2 = int(input())\n",
    "n3 = int(input())\n",
    "n4 = int(input())\n",
    "\n",
    "matrix=np.matrix([[n1,n2],[n3,n4]])\n",
    "determinant = np.linalg.det(matrix)\n",
    "\n",
    "if determinant == 0:\n",
    "         print(\"The matrix does not have an inverse.\")\n",
    "else:\n",
    "         result = np.linalg.inv(matrix)\n",
    "         print(result)"
   ]
  },
  {
   "cell_type": "code",
   "execution_count": 3,
   "id": "3056384d",
   "metadata": {},
   "outputs": [
    {
     "name": "stdout",
     "output_type": "stream",
     "text": [
      "0 15 16 31 32 47 48 63\n",
      "1 14 17 30 33 46 49 62\n",
      "2 13 18 29 34 45 50 61\n",
      "3 12 19 28 35 44 51 60\n",
      "4 11 20 27 36 43 52 59\n",
      "5 10 21 26 37 42 53 58\n",
      "6 9 22 25 38 41 54 57\n",
      "7 8 23 24 39 40 55 56\n",
      "\n",
      "7 6 5 4 3 2 1 0\n",
      "8 9 10 11 12 13 14 15\n",
      "23 22 21 20 19 18 17 16\n",
      "24 25 26 27 28 29 30 31\n",
      "39 38 37 36 35 34 33 32\n",
      "40 41 42 43 44 45 46 47\n",
      "55 54 53 52 51 50 49 48\n",
      "56 57 58 59 60 61 62 63\n"
     ]
    },
    {
     "data": {
      "text/plain": [
       "[None, None, None, None, None, None, None, None]"
      ]
     },
     "execution_count": 3,
     "metadata": {},
     "output_type": "execute_result"
    }
   ],
   "source": [
    "#4 \n",
    "\n",
    "a =[list(range(i, i+8) if i%16 else reversed(range(i, i+8))) for i in range(0, 63, 8)]\n",
    "b = zip(*[list(reversed(i)) for i in a])\n",
    "[print(*i) for i in b]\n",
    "print()\n",
    "[print(*i) for i in a]"
   ]
  },
  {
   "cell_type": "code",
   "execution_count": 4,
   "id": "d6d4b861",
   "metadata": {},
   "outputs": [
    {
     "name": "stdout",
     "output_type": "stream",
     "text": [
      "0 1 5\n",
      "2 4 6\n",
      "3 7 11\n",
      "8 10 12\n",
      "9 13 14\n"
     ]
    }
   ],
   "source": [
    "def snake(n, m):\n",
    "    matrix = [[0]*m for _ in range(n)]\n",
    "    val = -1\n",
    " \n",
    "    for k in range(n + m):\n",
    "        tmp = min(k, max(n-1, m-1))\n",
    "        for j in range(tmp, -1, -1):\n",
    "            if k%2:\n",
    "                row = k - j\n",
    "                col = j\n",
    "            else:\n",
    "                row = j\n",
    "                col = k - j\n",
    "            \n",
    "            if row < n and col < m:\n",
    "                val += 1\n",
    "                matrix[row][col] = val\n",
    " \n",
    "    return matrix\n",
    "     \n",
    "res = snake(5,3) #snake(int(input('rows = ')), int(input('columns = ')))\n",
    "for row in res:\n",
    "    print(*row)"
   ]
  },
  {
   "cell_type": "code",
   "execution_count": null,
   "id": "c9ee905b",
   "metadata": {},
   "outputs": [],
   "source": []
  }
 ],
 "metadata": {
  "kernelspec": {
   "display_name": "Python 3 (ipykernel)",
   "language": "python",
   "name": "python3"
  },
  "language_info": {
   "codemirror_mode": {
    "name": "ipython",
    "version": 3
   },
   "file_extension": ".py",
   "mimetype": "text/x-python",
   "name": "python",
   "nbconvert_exporter": "python",
   "pygments_lexer": "ipython3",
   "version": "3.9.12"
  }
 },
 "nbformat": 4,
 "nbformat_minor": 5
}
