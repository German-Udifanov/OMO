{
 "cells": [
  {
   "cell_type": "markdown",
   "id": "b1d367af",
   "metadata": {},
   "source": [
    "## Теоретический материал – Типы данных"
   ]
  },
  {
   "cell_type": "markdown",
   "id": "08c7e18c",
   "metadata": {},
   "source": [
    "Типы данных\n",
    "Все типы данных в Python относятся к одной из 2-х категорий: \n",
    "изменяемые (mutable) и неизменяемые (immutable).\n",
    "Неизменяемые объекты:\n",
    "    \n",
    "    числовые данные (int, float),\n",
    "    bool,\n",
    "    None,\n",
    "    символьные строки (class 'str'),\n",
    "    кортежи (tuple).\n",
    "Изменяемые объекты:\t\n",
    "    \n",
    "    списки (list),\n",
    "    множества (set),\n",
    "    словари (dict).\n",
    "Определить тип переменной можно с помощью функции type().\n"
   ]
  },
  {
   "cell_type": "markdown",
   "id": "c3420a1b",
   "metadata": {},
   "source": [
    "## Пример 1"
   ]
  },
  {
   "cell_type": "code",
   "execution_count": 1,
   "id": "abff0640",
   "metadata": {},
   "outputs": [
    {
     "name": "stdout",
     "output_type": "stream",
     "text": [
      "6 <class 'int'>\n"
     ]
    }
   ],
   "source": [
    "x=6\n",
    "print(x,type(x))"
   ]
  },
  {
   "cell_type": "markdown",
   "id": "d2a4d773",
   "metadata": {},
   "source": [
    "## Теоретический материал – Тип int"
   ]
  },
  {
   "cell_type": "markdown",
   "id": "a0cb6057",
   "metadata": {},
   "source": [
    "    C переменными типа int можно производить стандартные математические операции – сложение, вычитание, умножение, деление, возведение в степень, взятие остатка при делении на число.\n",
    "    \n",
    "    Деление переменных типа int бывает двух типов – целочисленное (с помощью символа //) и нецелочисленное (символ /). Результатом первого типа деления будет целое число, второго – дробное.\n"
   ]
  },
  {
   "cell_type": "markdown",
   "id": "161d0326",
   "metadata": {},
   "source": [
    "## Пример 2"
   ]
  },
  {
   "cell_type": "code",
   "execution_count": 2,
   "id": "67e10e9b",
   "metadata": {},
   "outputs": [
    {
     "name": "stdout",
     "output_type": "stream",
     "text": [
      "9 20 1 1.25 625 1\n"
     ]
    }
   ],
   "source": [
    "a=4+5\n",
    "b=4*5\n",
    "c=5//4\n",
    "d=5/4\n",
    "e=5**4\n",
    "f=5%4\n",
    "print(a,b,c,d,e,f)"
   ]
  },
  {
   "cell_type": "markdown",
   "id": "31960a39",
   "metadata": {},
   "source": [
    "## Задание 1."
   ]
  },
  {
   "cell_type": "code",
   "execution_count": 3,
   "id": "b03b42b8",
   "metadata": {},
   "outputs": [
    {
     "name": "stdout",
     "output_type": "stream",
     "text": [
      "16 0 64 16777216 1.0 1\n"
     ]
    }
   ],
   "source": [
    "a=8+8\n",
    "b=8-8\n",
    "c=8*8\n",
    "d=8**8\n",
    "e=8/8\n",
    "f=8//8\n",
    "print(a,b,c,d,e,f)"
   ]
  },
  {
   "cell_type": "markdown",
   "id": "f35609f2",
   "metadata": {},
   "source": [
    "## Пример 3"
   ]
  },
  {
   "cell_type": "code",
   "execution_count": 4,
   "id": "b31335a3",
   "metadata": {},
   "outputs": [
    {
     "name": "stdout",
     "output_type": "stream",
     "text": [
      "5000000000000000000000000001 | <class 'int'>\n"
     ]
    }
   ],
   "source": [
    "x=5*1000000000*1000000000*10**9+1\n",
    "print(x,'|',type(x))"
   ]
  },
  {
   "cell_type": "markdown",
   "id": "047212bd",
   "metadata": {},
   "source": [
    "## Задание 2"
   ]
  },
  {
   "cell_type": "code",
   "execution_count": 5,
   "id": "7ead4613",
   "metadata": {},
   "outputs": [
    {
     "name": "stdout",
     "output_type": "stream",
     "text": [
      "700000000000000000000000000000000000000000000000000000000000000000000000000077 | <class 'int'>\n"
     ]
    }
   ],
   "source": [
    "x=7*10**77+77\n",
    "print(x,'|',type(x))"
   ]
  },
  {
   "cell_type": "markdown",
   "id": "771a73ca",
   "metadata": {},
   "source": [
    "## Теоретический материал – Тип float"
   ]
  },
  {
   "cell_type": "markdown",
   "id": "9b2cdc4d",
   "metadata": {},
   "source": [
    "    C переменными типа float можно производить стандартные математические операции – сложение, вычитание, умножение, деление, возведение в степень, взятие остатка от деления на число.\n",
    "    Переменную типа int можно привести к типу float.\n"
   ]
  },
  {
   "cell_type": "code",
   "execution_count": 8,
   "id": "9408c3c2",
   "metadata": {},
   "outputs": [
    {
     "name": "stdout",
     "output_type": "stream",
     "text": [
      "5 <class 'int'>\n",
      "5.0 <class 'float'>\n"
     ]
    }
   ],
   "source": [
    "a=5\n",
    "print(a,type(a))\n",
    "a=float(a)\n",
    "print(a,type(a))"
   ]
  },
  {
   "cell_type": "markdown",
   "id": "94a48a58",
   "metadata": {},
   "source": [
    "## Пример 4"
   ]
  },
  {
   "cell_type": "code",
   "execution_count": 9,
   "id": "18d6a8fb",
   "metadata": {},
   "outputs": [
    {
     "name": "stdout",
     "output_type": "stream",
     "text": [
      "12.345 | <class 'float'>\n"
     ]
    }
   ],
   "source": [
    "y=12.345\n",
    "print(y,'|',type(y))"
   ]
  },
  {
   "cell_type": "markdown",
   "id": "6adf2f40",
   "metadata": {},
   "source": [
    "## Пример 5"
   ]
  },
  {
   "cell_type": "code",
   "execution_count": 12,
   "id": "5ed4b21f",
   "metadata": {},
   "outputs": [
    {
     "name": "stdout",
     "output_type": "stream",
     "text": [
      "9.3 21.42 1.25 1.0 759.69140625 3.1099999999999994\n"
     ]
    }
   ],
   "source": [
    "af=4.2+5.1\n",
    "bf=4.2*5.1\n",
    "cf=5.0/4.0\n",
    "df=5.25//4.25\n",
    "ef=5.25**4.0\n",
    "ff=7.35%4.24\n",
    "print(af,round(bf,2),cf,df,ef,ff)"
   ]
  },
  {
   "cell_type": "markdown",
   "id": "d9f16949",
   "metadata": {},
   "source": [
    "## Задание 3"
   ]
  },
  {
   "cell_type": "code",
   "execution_count": 14,
   "id": "ffb97a7a",
   "metadata": {},
   "outputs": [
    {
     "name": "stdout",
     "output_type": "stream",
     "text": [
      "13.2 67.76 0.875 0.0 63258425.992 7.7\n"
     ]
    }
   ],
   "source": [
    "af=7.7+5.5 #сложение вещественных чисел\n",
    "bf=7.7*8.8 #умножение вещественных чисел\n",
    "cf=7.7/8.8 #деление вещественных чисел\n",
    "df=7.77//8.88 #деление и вывод остатка вещественных чисел\n",
    "ef=7.7**8.8 #возведение в степень вещественных чисел\n",
    "ff=7.7%8.8 #вывод остатка при делении вещественных чисел\n",
    "print (af,bf,cf,df,round(ef,3),ff)"
   ]
  },
  {
   "cell_type": "markdown",
   "id": "2ace982e",
   "metadata": {},
   "source": [
    "## Теоретический материал – Тип bool"
   ]
  },
  {
   "cell_type": "markdown",
   "id": "d5cbab74",
   "metadata": {},
   "source": [
    "Логический тип данных – принимает два значения: Trueили False.\n",
    "У типа bool существует связь с типом int – переменная со значением True соответствует int-овой переменной со значением 1, а переменная со значением False–int'овой переменной со значением 0."
   ]
  },
  {
   "cell_type": "markdown",
   "id": "bcde3150",
   "metadata": {},
   "source": [
    "## Пример 6"
   ]
  },
  {
   "cell_type": "code",
   "execution_count": 15,
   "id": "eedcf6ad",
   "metadata": {},
   "outputs": [
    {
     "name": "stdout",
     "output_type": "stream",
     "text": [
      "True | <class 'bool'>\n",
      "False | <class 'bool'>\n"
     ]
    }
   ],
   "source": [
    "a=True\n",
    "b=False\n",
    "print(a,'|',type(a))\n",
    "print(b,'|',type(b))"
   ]
  },
  {
   "cell_type": "markdown",
   "id": "71c22c35",
   "metadata": {},
   "source": [
    "## Пример 7"
   ]
  },
  {
   "cell_type": "code",
   "execution_count": 2,
   "id": "0fa21ccc",
   "metadata": {},
   "outputs": [
    {
     "name": "stdout",
     "output_type": "stream",
     "text": [
      "1\n",
      "2\n",
      "0\n"
     ]
    }
   ],
   "source": [
    "a=True\n",
    "b=False\n",
    "print(a+b)\n",
    "print(a+a)\n",
    "print(b+b)"
   ]
  },
  {
   "cell_type": "markdown",
   "id": "2c7771ec",
   "metadata": {},
   "source": [
    "## Задание 4"
   ]
  },
  {
   "cell_type": "code",
   "execution_count": 1,
   "id": "be313db2",
   "metadata": {},
   "outputs": [
    {
     "name": "stdout",
     "output_type": "stream",
     "text": [
      "False <class 'bool'>\n",
      "True <class 'bool'>\n"
     ]
    }
   ],
   "source": [
    "a=True\n",
    "b=False\n",
    "print(b, type(b))\n",
    "print(a, type(a))"
   ]
  },
  {
   "cell_type": "markdown",
   "id": "3d40b8da",
   "metadata": {},
   "source": [
    "## Пример 8"
   ]
  },
  {
   "cell_type": "code",
   "execution_count": 2,
   "id": "56933ee0",
   "metadata": {},
   "outputs": [
    {
     "name": "stdout",
     "output_type": "stream",
     "text": [
      "1 0\n"
     ]
    }
   ],
   "source": [
    "a=True\n",
    "b=False\n",
    "print(int(a),int(b))"
   ]
  },
  {
   "cell_type": "markdown",
   "id": "6616fe52",
   "metadata": {},
   "source": [
    "## Пример 9"
   ]
  },
  {
   "cell_type": "code",
   "execution_count": 3,
   "id": "232f8744",
   "metadata": {},
   "outputs": [
    {
     "name": "stdout",
     "output_type": "stream",
     "text": [
      "False\n",
      "True\n",
      "True\n"
     ]
    }
   ],
   "source": [
    "print(True and False)\n",
    "print(True or False)\n",
    "print(not False)"
   ]
  },
  {
   "cell_type": "markdown",
   "id": "6ca940c8",
   "metadata": {},
   "source": [
    "## Пример 10"
   ]
  },
  {
   "cell_type": "code",
   "execution_count": 4,
   "id": "ad7b31f2",
   "metadata": {},
   "outputs": [
    {
     "name": "stdout",
     "output_type": "stream",
     "text": [
      "False <class 'bool'>\n",
      "True <class 'bool'>\n"
     ]
    }
   ],
   "source": [
    "a=(2==3)\n",
    "b=(4<5)\n",
    "print(a,type(a))\n",
    "print(b,type(b))"
   ]
  },
  {
   "cell_type": "markdown",
   "id": "9e5d4b03",
   "metadata": {},
   "source": [
    "## Пример 11"
   ]
  },
  {
   "cell_type": "code",
   "execution_count": 6,
   "id": "5c354579",
   "metadata": {
    "scrolled": true
   },
   "outputs": [
    {
     "name": "stdout",
     "output_type": "stream",
     "text": [
      "True\n"
     ]
    }
   ],
   "source": [
    "print(9/3>2*3 or not (12!=3**2+3 and 57-24>30))"
   ]
  },
  {
   "cell_type": "markdown",
   "id": "76dbf12f",
   "metadata": {},
   "source": [
    "## Теоретический материал – Функция input()"
   ]
  },
  {
   "cell_type": "markdown",
   "id": "1d57b354",
   "metadata": {},
   "source": [
    "Функция input() используется для ввода данных с клавиатуры.\n",
    "В примере 12 инициализируется переменная name – имя переменной. \n",
    "Имена переменных используются для хранения значений.\n",
    "Символ + используется для соединения (конкатенации) строк."
   ]
  },
  {
   "cell_type": "markdown",
   "id": "56a4255d",
   "metadata": {},
   "source": [
    "## Пример 12"
   ]
  },
  {
   "cell_type": "code",
   "execution_count": 6,
   "id": "c3f783d2",
   "metadata": {},
   "outputs": [
    {
     "name": "stdout",
     "output_type": "stream",
     "text": [
      "Введите имя: German\n",
      "Привет, German\n"
     ]
    }
   ],
   "source": [
    "name=input(\"Введите имя: \")\n",
    "print(\"Привет, \" + name)"
   ]
  },
  {
   "cell_type": "markdown",
   "id": "93840cd8",
   "metadata": {},
   "source": [
    "## Привет 13"
   ]
  },
  {
   "cell_type": "code",
   "execution_count": 11,
   "id": "d3c3d727",
   "metadata": {},
   "outputs": [
    {
     "name": "stdout",
     "output_type": "stream",
     "text": [
      "Введите x= 5\n",
      "Введите y= 87\n",
      "587\n"
     ]
    }
   ],
   "source": [
    "x=input(\"Введите x = \")\n",
    "y=input(\"Введите y = \")\n",
    "print(x+y)"
   ]
  },
  {
   "cell_type": "markdown",
   "id": "6ba27664",
   "metadata": {},
   "source": [
    "## Задание 5"
   ]
  },
  {
   "cell_type": "code",
   "execution_count": 7,
   "id": "3bfa17a1",
   "metadata": {},
   "outputs": [
    {
     "name": "stdout",
     "output_type": "stream",
     "text": [
      "Какая у вас группа? БФБО\n",
      "Какой номер группы? 04\n",
      "БФБО 04\n"
     ]
    }
   ],
   "source": [
    "x=input(\"Какая у вас группа? \")\n",
    "y=input(\"Какой номер группы? \")\n",
    "print(x+\" \"+y)"
   ]
  },
  {
   "cell_type": "markdown",
   "id": "26c96207",
   "metadata": {},
   "source": [
    "## Теоретический материал – Ввод с клавиатуры переменной"
   ]
  },
  {
   "cell_type": "markdown",
   "id": "05a2f364",
   "metadata": {},
   "source": [
    "Необходимо определять тип переменной при вводе с клавиатуры для выполнения арифметических операций."
   ]
  },
  {
   "cell_type": "markdown",
   "id": "7920b777",
   "metadata": {},
   "source": [
    "## Пример 14"
   ]
  },
  {
   "cell_type": "code",
   "execution_count": 8,
   "id": "82eab6e0",
   "metadata": {},
   "outputs": [
    {
     "name": "stdout",
     "output_type": "stream",
     "text": [
      "Введите x = 5\n",
      "Введите y = 9\n",
      "14.0\n"
     ]
    }
   ],
   "source": [
    "x=input(\"Введите x = \")\n",
    "y=input(\"Введите y = \")\n",
    "x=float(x)\n",
    "y=float(y)\n",
    "print(x+y)"
   ]
  },
  {
   "cell_type": "code",
   "execution_count": 19,
   "id": "e0890c55",
   "metadata": {
    "scrolled": true
   },
   "outputs": [
    {
     "name": "stdout",
     "output_type": "stream",
     "text": [
      "Введите x=77\n",
      "Введите y=8\n",
      "85.0 | <class 'float'>\n"
     ]
    }
   ],
   "source": [
    "x=float(input('Введите x='))\n",
    "y=float(input('Введите y='))\n",
    "print(x+y, '|', type(x+y))"
   ]
  },
  {
   "cell_type": "markdown",
   "id": "97e75aab",
   "metadata": {},
   "source": [
    "## Задание 6"
   ]
  },
  {
   "cell_type": "code",
   "execution_count": 20,
   "id": "38d989e6",
   "metadata": {},
   "outputs": [
    {
     "name": "stdout",
     "output_type": "stream",
     "text": [
      "Введите x=7\n",
      "Введите y=77\n",
      "84.0 | <class 'float'>\n"
     ]
    }
   ],
   "source": [
    "x=float(input('Введите x='))\n",
    "y=int(input('Введите y='))\n",
    "print(x+y, '|', type(x+y))"
   ]
  },
  {
   "cell_type": "markdown",
   "id": "24b95de5",
   "metadata": {},
   "source": [
    "## Теоретический материал – Тип str"
   ]
  },
  {
   "cell_type": "markdown",
   "id": "4950f43d",
   "metadata": {},
   "source": [
    "Тип переменной \"строка\". Нужен для хранения и выполнения операций со строками – наборами символов. В Python строку можно задавать как с помощью одинарных кавычек, так и с помощью двойных, разницы нет (главное, чтобы в начале и конце одной строки стояли одинаковые кавычки).\n",
    "Со строками можно выполнять некоторые операции. Например, можно сложить две строки – вторая добавится в конец первой.\n",
    "Также у строк есть некоторое количество методов.\n",
    "Метод – это название для функций, которые вызываются от объекта. Например, у нас есть объект a – строка, и для нее можно вызвать метод .upper(): a.upper()\n",
    "Методы делятся на те, которые изменяют сам объект, который их вызывает, и на те, которые возвращают результат, но не изменяют сам объект. \n",
    "Методы .upper() и .lower() – возвращают копию строки (не изменяя саму строку), для которой был вызван методы, приведения к верхнему и нижнему регистру соответственно.\n",
    "Внимание! При вызове метода какого-то класса (или функции какого-то модуля) можно написать его имя и через точку нажать [tab]:  \n",
    "<имя_объекта_класса(модуля).[tab]  – всплывет меню, в котором можно выбрать из всех существующих в этом классе методов (функций модуля)."
   ]
  },
  {
   "cell_type": "markdown",
   "id": "b22b2537",
   "metadata": {},
   "source": [
    "## Пример 15"
   ]
  },
  {
   "cell_type": "code",
   "execution_count": null,
   "id": "46b75303",
   "metadata": {},
   "outputs": [],
   "source": [
    "name=input('Введите имя: ')\n",
    "print('Привет, '+name,'!')"
   ]
  },
  {
   "cell_type": "markdown",
   "id": "a0c35633",
   "metadata": {},
   "source": [
    "## Пример 16"
   ]
  },
  {
   "cell_type": "code",
   "execution_count": 26,
   "id": "b1d2f79a",
   "metadata": {},
   "outputs": [
    {
     "name": "stdout",
     "output_type": "stream",
     "text": [
      "abc | <class 'str'>\n",
      "xyz | <class 'str'>\n"
     ]
    }
   ],
   "source": [
    "x='abc'\n",
    "y='xyz'\n",
    "print(x,'|',type(x))\n",
    "print(y,'|',type(y))"
   ]
  },
  {
   "cell_type": "markdown",
   "id": "57094789",
   "metadata": {},
   "source": [
    "## Пример 17"
   ]
  },
  {
   "cell_type": "code",
   "execution_count": 4,
   "id": "d95e8c05",
   "metadata": {},
   "outputs": [
    {
     "name": "stdout",
     "output_type": "stream",
     "text": [
      "Здарова Еда!\n"
     ]
    }
   ],
   "source": [
    "a='Здарова'\n",
    "b=\"Еда!\"\n",
    "s=a+\" \"+b\n",
    "print(s)"
   ]
  },
  {
   "cell_type": "markdown",
   "id": "a0c6e7c7",
   "metadata": {},
   "source": [
    "## Пример 18"
   ]
  },
  {
   "cell_type": "code",
   "execution_count": 28,
   "id": "3575c89e",
   "metadata": {},
   "outputs": [
    {
     "name": "stdout",
     "output_type": "stream",
     "text": [
      "ПРИВЕТ\n",
      "привет\n",
      "Привет\n"
     ]
    }
   ],
   "source": [
    "a='Привет'\n",
    "print(a.upper())\n",
    "print(a.lower())\n",
    "print(a)"
   ]
  },
  {
   "cell_type": "markdown",
   "id": "caf4e05d",
   "metadata": {},
   "source": [
    "## Задание 7"
   ]
  },
  {
   "cell_type": "code",
   "execution_count": 3,
   "id": "faae142b",
   "metadata": {},
   "outputs": [
    {
     "name": "stdout",
     "output_type": "stream",
     "text": [
      "ФИО Удифанов Герман Владимирович\n",
      "Группы БФБО-04-22\n",
      "УДИФАНОВ ГЕРМАН ВЛАДИМИРОВИЧ БФБО-04-22\n"
     ]
    }
   ],
   "source": [
    "n=input(\"ФИО \")\n",
    "nn=input(\"Группы \")\n",
    "print(n.upper()+\" \"+nn.upper())"
   ]
  },
  {
   "cell_type": "markdown",
   "id": "fa589455",
   "metadata": {},
   "source": [
    "## Теоретический материал – Тип None"
   ]
  },
  {
   "cell_type": "markdown",
   "id": "d70cb2d9",
   "metadata": {},
   "source": [
    "None – ничего, null\n",
    "Специальный тип в питоне, который обозначает “ничего”.\n",
    "Его нельзя привести ни к одному другому типу языка. Проверить, является ли переменная param типом None, можно так:\n",
    "if param is None\n",
    "С первого взгляда может быть непонятно, зачем он нужен, но на самом деле это очень удобный тип.\n",
    "Например, если вы где-то в коде создаете объект (базу данных, например), обращаясь к внешнему коду и хотите проверить, создалась ли ваша база данных, вы можете осуществить эту проверку, сравнив переменную базы данных с None. Примерно так:\n",
    "database = MyDatabase(db_host, db_user, db_password, db_database)\n",
    "if database is None"
   ]
  },
  {
   "cell_type": "markdown",
   "id": "e1e06c27",
   "metadata": {},
   "source": [
    "## Пример 19\n"
   ]
  },
  {
   "cell_type": "code",
   "execution_count": 32,
   "id": "bc62ba57",
   "metadata": {},
   "outputs": [
    {
     "name": "stdout",
     "output_type": "stream",
     "text": [
      "None | <class 'NoneType'>\n"
     ]
    }
   ],
   "source": [
    "z=None\n",
    "print(z, '|', type(z))"
   ]
  },
  {
   "cell_type": "markdown",
   "id": "4a7387d1",
   "metadata": {},
   "source": [
    "## Пример 20"
   ]
  },
  {
   "cell_type": "code",
   "execution_count": 33,
   "id": "edffe9a6",
   "metadata": {},
   "outputs": [
    {
     "ename": "TypeError",
     "evalue": "int() argument must be a string, a bytes-like object or a number, not 'NoneType'",
     "output_type": "error",
     "traceback": [
      "\u001b[1;31m---------------------------------------------------------------------------\u001b[0m",
      "\u001b[1;31mTypeError\u001b[0m                                 Traceback (most recent call last)",
      "Input \u001b[1;32mIn [33]\u001b[0m, in \u001b[0;36m<cell line: 1>\u001b[1;34m()\u001b[0m\n\u001b[1;32m----> 1\u001b[0m \u001b[38;5;28;43mint\u001b[39;49m\u001b[43m(\u001b[49m\u001b[43mz\u001b[49m\u001b[43m)\u001b[49m\n",
      "\u001b[1;31mTypeError\u001b[0m: int() argument must be a string, a bytes-like object or a number, not 'NoneType'"
     ]
    }
   ],
   "source": [
    "int(z)"
   ]
  },
  {
   "cell_type": "markdown",
   "id": "a3a7a419",
   "metadata": {},
   "source": [
    "## Пример 21"
   ]
  },
  {
   "cell_type": "code",
   "execution_count": 22,
   "id": "8da6b97a",
   "metadata": {},
   "outputs": [
    {
     "data": {
      "text/plain": [
       "('a', 5, 12.345, (2, 'b'))"
      ]
     },
     "execution_count": 22,
     "metadata": {},
     "output_type": "execute_result"
    }
   ],
   "source": [
    "if z is None:\n",
    "    z='I am None!'\n",
    "z"
   ]
  },
  {
   "cell_type": "markdown",
   "id": "3fef3074",
   "metadata": {},
   "source": [
    "## Пример 22"
   ]
  },
  {
   "cell_type": "code",
   "execution_count": 5,
   "id": "6c5e6ce1",
   "metadata": {},
   "outputs": [
    {
     "name": "stdout",
     "output_type": "stream",
     "text": [
      "ФИО | <class 'str'> \n",
      " группа БФБО-0*-2022 | <class 'str'> \n",
      " Оценка за экзамен 5 | <class 'int'> True | <class 'bool'> \n",
      " 39.4 | <class 'float'> \n",
      " None | <class 'NoneType'> \n",
      " ('a', 5, 12.345, (2, 'b')) | <class 'tuple'> \n",
      " [['Иванов Иван', 34, 'ж'], ['Бобиков бобик', 26, 'м']] | <class 'list'> \n",
      " {1, 2, 'title', 'content'} | <class 'set'>\n"
     ]
    }
   ],
   "source": [
    "s='ФИО'\n",
    "s1=\"группа БФБО-0*-2022\"\n",
    "k=5\n",
    "q=k>3\n",
    "x=3+5.2*7\n",
    "y=None\n",
    "z='a',5,12.345,(2,'b')\n",
    "df=[['Иванов Иван',34,'ж'],['Бобиков бобик',26,'м']]\n",
    "A={1,'title',2,'content'}\n",
    "print(s,'|', type(s),'\\n',s1,'|',type(s1),'\\n','Оценка за экзамен',k,'|',type (k),q,'|',type(q),'\\n',x,'|',type(x),'\\n',y,'|',type(y),'\\n',z,'|',type(z),'\\n',df,'|',type(df),'\\n',A,'|',type(A))"
   ]
  },
  {
   "cell_type": "markdown",
   "id": "ea183926",
   "metadata": {},
   "source": [
    "## Задание 8"
   ]
  },
  {
   "cell_type": "code",
   "execution_count": null,
   "id": "fa34ab12",
   "metadata": {
    "scrolled": true
   },
   "outputs": [],
   "source": [
    "s='ФИО'\n",
    "s1=\"группа БФБО-04-2022\"\n",
    "k=5\n",
    "q=k>3\n",
    "x=3+5.2*7\n",
    "y=None\n",
    "z='a',5,12.345,(2,'b')\n",
    "df=[['Удифанов Герман',19,'м'],['Савич Стефан',18,'м']]\n",
    "A={1,'title',2,'content'}\n",
    "print(s,'|', type(s),'\\n',s1,'|',type(s1),'\\n','Оценка за экзамен',k,'|',type (k),q,'|',type(q),'\\n',x,'|',type(x),'\\n',y,'|',type(y),'\\n',z,'|',type(z),'\\n',df,'|',type(df),'\\n',A,'|',type(A))"
   ]
  },
  {
   "cell_type": "markdown",
   "id": "7bb5c16a",
   "metadata": {},
   "source": [
    "\n"
   ]
  },
  {
   "cell_type": "markdown",
   "id": "a1dc658c",
   "metadata": {},
   "source": [
    "## Теоретический материал – Тип Set"
   ]
  },
  {
   "cell_type": "markdown",
   "id": "c24394ce",
   "metadata": {},
   "source": [
    "Множество – это набор, в котором элементы не повторяются (то есть, как и в математическом определении множества). \n",
    "Даже, если при задании элементов множества или копировании элементов массива в переменную типа множество будет указано несколько раз одинаковый элемент, при выводе множества можно убедится, что он будет один.\n",
    "Тип данных множество языка Python устроен совсем не так, как массив или кортеж, элементы множества хранятся не последовательно, поэтому к элементам множества нельзя обращаться по индексу."
   ]
  },
  {
   "cell_type": "markdown",
   "id": "271cb5ef",
   "metadata": {},
   "source": [
    "## Пример 23"
   ]
  },
  {
   "cell_type": "code",
   "execution_count": 8,
   "id": "368e596a",
   "metadata": {},
   "outputs": [
    {
     "name": "stdout",
     "output_type": "stream",
     "text": [
      "set() | <class 'set'>\n"
     ]
    }
   ],
   "source": [
    "s=set()\n",
    "print(s,'|',type(s))"
   ]
  },
  {
   "cell_type": "markdown",
   "id": "1ce829c3",
   "metadata": {},
   "source": [
    "## Пример 24"
   ]
  },
  {
   "cell_type": "code",
   "execution_count": 9,
   "id": "0f99639e",
   "metadata": {},
   "outputs": [
    {
     "name": "stdout",
     "output_type": "stream",
     "text": [
      "{1, 2, 3, 4, 5, 6, 7, 8}\n"
     ]
    }
   ],
   "source": [
    "s={1,2,4,2,3,5,6,7,8,5}\n",
    "print(s)"
   ]
  },
  {
   "cell_type": "markdown",
   "id": "7329500a",
   "metadata": {},
   "source": [
    "## Задание 9"
   ]
  },
  {
   "cell_type": "code",
   "execution_count": 10,
   "id": "cd5f4490",
   "metadata": {},
   "outputs": [
    {
     "name": "stdout",
     "output_type": "stream",
     "text": [
      "{1, 5, 7, 10, 77} | <class 'set'>\n",
      "{17.5, 77.1, 77.7, 10.5, 77.5} | <class 'set'>\n",
      "{'z', 'x', 's', 'q', 'y'} | <class 'set'>\n",
      "{1, 5, 7, 10, 77} | <class 'set'>\n",
      "{10.5, 77.1, 77.5, 77.7, 17.5} | <class 'set'>\n",
      "{'q', 'y', 's', 'x', 'z'} | <class 'set'>\n"
     ]
    }
   ],
   "source": [
    "s1={1,7,5,10,77,5,10,1,7,77}\n",
    "s2={77.7,17.5,10.5,77.5,77.1,77.1,77.5,77.7,17.5,10.5}\n",
    "s3={'x','z','y','q','s','x','y','z','s','q'}\n",
    "ss1=set([1,7,5,10,77,5,10,1,7,77])\n",
    "ss2=set([77.7,17.5,10.5,77.5,77.1,77.1,77.5,77.7,17.5,10.5])\n",
    "ss3=set(['x','z','y','q','s','x','y','z','s','q'])\n",
    "print(s1, '|', type(s1))\n",
    "print(s2, '|', type(s2))\n",
    "print(s3, '|', type(s3))\n",
    "print(ss1, '|', type(s1))\n",
    "print(ss2, '|', type(s2))\n",
    "print(ss3, '|', type(s3)) # в отличии от массива, \n",
    "#множество(set) выводит данные в правильном порядке"
   ]
  },
  {
   "cell_type": "markdown",
   "id": "85fd979d",
   "metadata": {},
   "source": []
  },
  {
   "cell_type": "markdown",
   "id": "39918dec",
   "metadata": {},
   "source": [
    "## Теоретический материал - Операции над множествами"
   ]
  },
  {
   "cell_type": "markdown",
   "id": "46dd2606",
   "metadata": {},
   "source": [
    "Основные операции над множествами:\n",
    "1)\tОбъединение;\n",
    "\n",
    "2)\tПересечение;\n",
    "\n",
    "3)\tРазность;\n",
    "\n",
    "4)\tСимметричная разность."
   ]
  },
  {
   "cell_type": "markdown",
   "id": "bff5b4ca",
   "metadata": {},
   "source": [
    "## Пример 25"
   ]
  },
  {
   "cell_type": "code",
   "execution_count": 11,
   "id": "797236f4",
   "metadata": {},
   "outputs": [
    {
     "name": "stdout",
     "output_type": "stream",
     "text": [
      "{1, 2, 3, 4, 5, 'dog', 7, 8, 10}\n"
     ]
    }
   ],
   "source": [
    "A={1,2,3,7,8}\n",
    "B={2,3,4,5,10,'dog'}\n",
    "C=A|B #объединение множеств\n",
    "print(C)"
   ]
  },
  {
   "cell_type": "markdown",
   "id": "95cee6dc",
   "metadata": {},
   "source": [
    "или"
   ]
  },
  {
   "cell_type": "code",
   "execution_count": 12,
   "id": "4fd73c72",
   "metadata": {},
   "outputs": [
    {
     "name": "stdout",
     "output_type": "stream",
     "text": [
      "{1, 2, 3, 4, 5, 'dog', 7, 8, 10}\n"
     ]
    }
   ],
   "source": [
    "A={1,2,3,7,8}\n",
    "B={2,3,4,5,10,'dog'}\n",
    "print(A.union(B))"
   ]
  },
  {
   "cell_type": "markdown",
   "id": "5d71dcaa",
   "metadata": {},
   "source": [
    "## Пример 26"
   ]
  },
  {
   "cell_type": "code",
   "execution_count": 13,
   "id": "7222c8f7",
   "metadata": {},
   "outputs": [
    {
     "name": "stdout",
     "output_type": "stream",
     "text": [
      "{2, 3}\n"
     ]
    }
   ],
   "source": [
    "A={1,2,3,7,8}\n",
    "B={2,3,4,5,10,'dog'}\n",
    "C=A&B # пересечение множеств\n",
    "print(C)"
   ]
  },
  {
   "cell_type": "code",
   "execution_count": 14,
   "id": "4fc96137",
   "metadata": {},
   "outputs": [
    {
     "name": "stdout",
     "output_type": "stream",
     "text": [
      "{2, 3}\n"
     ]
    }
   ],
   "source": [
    "A={1,2,3,7,8}\n",
    "B={2,3,4,5,10,'dog'}\n",
    "print(A.intersection(B))"
   ]
  },
  {
   "cell_type": "markdown",
   "id": "1652f704",
   "metadata": {},
   "source": [
    "## Пример 27"
   ]
  },
  {
   "cell_type": "code",
   "execution_count": 15,
   "id": "491da92a",
   "metadata": {},
   "outputs": [
    {
     "name": "stdout",
     "output_type": "stream",
     "text": [
      "{8, 1, 7}\n"
     ]
    }
   ],
   "source": [
    "A={1,2,3,7,8}\n",
    "B={2,3,4,5,10,'dog'}\n",
    "C=A-B\n",
    "print(C)"
   ]
  },
  {
   "cell_type": "code",
   "execution_count": 16,
   "id": "bc392af3",
   "metadata": {},
   "outputs": [
    {
     "name": "stdout",
     "output_type": "stream",
     "text": [
      "{8, 1, 7}\n"
     ]
    }
   ],
   "source": [
    "A={1,2,3,7,8}\n",
    "B={2,3,4,5,10,'dog'}\n",
    "print(A.difference(B))"
   ]
  },
  {
   "cell_type": "markdown",
   "id": "7fde21f0",
   "metadata": {},
   "source": [
    "## Пример 28"
   ]
  },
  {
   "cell_type": "code",
   "execution_count": 19,
   "id": "19cef6b6",
   "metadata": {},
   "outputs": [
    {
     "name": "stdout",
     "output_type": "stream",
     "text": [
      "{1, 'dog', 4, 5, 7, 8, 10}\n"
     ]
    }
   ],
   "source": [
    "A={1,2,3,7,8}\n",
    "B={2,3,4,5,10,'dog'}\n",
    "C=A^B # симметричная разность множеств\n",
    "print(C)"
   ]
  },
  {
   "cell_type": "code",
   "execution_count": 18,
   "id": "a9e7161e",
   "metadata": {},
   "outputs": [
    {
     "name": "stdout",
     "output_type": "stream",
     "text": [
      "{1, 'dog', 4, 5, 7, 8, 10}\n"
     ]
    }
   ],
   "source": [
    "A={1,2,3,7,8}\n",
    "B={2,3,4,5,10,'dog'}\n",
    "print(A.symmetric_difference(B))"
   ]
  },
  {
   "cell_type": "markdown",
   "id": "264247de",
   "metadata": {},
   "source": [
    "## Задание 10"
   ]
  },
  {
   "cell_type": "code",
   "execution_count": 17,
   "id": "1935484b",
   "metadata": {},
   "outputs": [
    {
     "name": "stdout",
     "output_type": "stream",
     "text": [
      "{1, 2, 3, 4, 5, 'dog', 7, 8, 10}\n",
      "{2, 3}\n",
      "{8, 1, 7}\n",
      "{1, 'dog', 4, 5, 7, 8, 10}\n"
     ]
    }
   ],
   "source": [
    "A={1,2,3,7,8}\n",
    "B={2,3,4,5,10,'dog'}\n",
    "C=A|B\n",
    "D=A&B\n",
    "E=A-B\n",
    "F=A^B\n",
    "print(C)\n",
    "print(D)\n",
    "print(E)\n",
    "print(F) # не люблю комментарии, не стал использовать функции прямо в print е"
   ]
  },
  {
   "cell_type": "markdown",
   "id": "1d5b51c2",
   "metadata": {},
   "source": [
    "## Теоретический материал – Тип Set – модификация множеств"
   ]
  },
  {
   "cell_type": "markdown",
   "id": "4797383b",
   "metadata": {},
   "source": [
    "Еще немного про множества.\n",
    "Можно добавлять элементы в множество с помощью метода .add()\n",
    "Можно удалить элементы по значению .discard(8)\n",
    "Посмотреть другие методы.\n",
    "При вызове метода какого-то класса (или функции какого-то модуля) можно написать его имя и через точку нажать tab:  \n",
    "<имя_объекта_класса(модуля).[tab]  \n",
    "Тогда всплывёт меню, в котором можно выбрать из всех существующих в этом классе методов (функций модуля)."
   ]
  },
  {
   "cell_type": "markdown",
   "id": "a924080e",
   "metadata": {},
   "source": [
    "## Пример 29"
   ]
  },
  {
   "cell_type": "code",
   "execution_count": 24,
   "id": "900d5800",
   "metadata": {},
   "outputs": [
    {
     "name": "stdout",
     "output_type": "stream",
     "text": [
      "{2, 3.7, 7, 8, 'a', None}\n"
     ]
    }
   ],
   "source": [
    "A={2,8}\n",
    "A.add(7)\n",
    "A.add('a')\n",
    "A.add(None)\n",
    "A.add(3.7)\n",
    "print(A)"
   ]
  },
  {
   "cell_type": "markdown",
   "id": "3afefb2d",
   "metadata": {},
   "source": [
    "## Пример 30"
   ]
  },
  {
   "cell_type": "code",
   "execution_count": 25,
   "id": "18ef3471",
   "metadata": {},
   "outputs": [
    {
     "data": {
      "text/plain": [
       "{7}"
      ]
     },
     "execution_count": 25,
     "metadata": {},
     "output_type": "execute_result"
    }
   ],
   "source": [
    "A={5,7}\n",
    "A.discard(5)\n",
    "A"
   ]
  },
  {
   "cell_type": "markdown",
   "id": "b0f154e2",
   "metadata": {},
   "source": [
    "## Пример 31"
   ]
  },
  {
   "cell_type": "code",
   "execution_count": 28,
   "id": "1343e09d",
   "metadata": {},
   "outputs": [
    {
     "name": "stdout",
     "output_type": "stream",
     "text": [
      "{'БФБО', 2, 3.7, 5, 7, 8, 'a', None}\n"
     ]
    }
   ],
   "source": [
    "A={2,8}\n",
    "A.add(7)\n",
    "A.add('a')\n",
    "A.add(None)\n",
    "A.add(3.7)\n",
    "A.update(['БФБО'],[5])\n",
    "print(A)"
   ]
  },
  {
   "cell_type": "code",
   "execution_count": 30,
   "id": "ac11a93d",
   "metadata": {},
   "outputs": [
    {
     "name": "stdout",
     "output_type": "stream",
     "text": [
      "{'БФБО', 2, 3.7, 5, 7, 8, 'a', None}\n"
     ]
    },
    {
     "data": {
      "text/plain": [
       "True"
      ]
     },
     "execution_count": 30,
     "metadata": {},
     "output_type": "execute_result"
    }
   ],
   "source": [
    "A={2,8}\n",
    "A.add(7)\n",
    "A.add('a')\n",
    "A.add(None)\n",
    "A.add(3.7)\n",
    "A.update(['БФБО'],[5])\n",
    "print(A)\n",
    "'БФБО' in A"
   ]
  },
  {
   "cell_type": "markdown",
   "id": "83f8913c",
   "metadata": {},
   "source": [
    "## Задание 11"
   ]
  },
  {
   "cell_type": "code",
   "execution_count": 33,
   "id": "e2c54ee4",
   "metadata": {},
   "outputs": [
    {
     "name": "stdout",
     "output_type": "stream",
     "text": [
      "True\n"
     ]
    }
   ],
   "source": [
    "Set1={1,4,5,3,5}\n",
    "Set2={4,5}\n",
    "A=Set2.issubset(Set1) \n",
    "print(A)"
   ]
  },
  {
   "cell_type": "markdown",
   "id": "7af78d7b",
   "metadata": {},
   "source": [
    "## Тяжело..."
   ]
  },
  {
   "cell_type": "markdown",
   "id": "b7040544",
   "metadata": {},
   "source": []
  },
  {
   "cell_type": "markdown",
   "id": "c5f1e379",
   "metadata": {},
   "source": [
    "## Теоретический материал – Визуализация множеств"
   ]
  },
  {
   "cell_type": "markdown",
   "id": "353f3b0d",
   "metadata": {},
   "source": [
    "Комментарии в программах, описание разделов и методов - является важным аспектом любой программы.\n",
    "Инструментарий Jupyter очень обширен. \n",
    "Можно создавать заголовки, описание, код, визуализацию расчетов и комментарии к решаемым задачам - совокупность инструментов оценена аналитиками и учеными по данным, что определяет лидерство данных информационных технологий.\n",
    "Построим диаграммы Эйлера-Венна используя matplotlib_venn.\n",
    "from matplotlib_venn import venn2, venn2_unweighted, venn2_circles, venn3, venn3_circles \n",
    "from matplotlib import pyplot as plt"
   ]
  },
  {
   "cell_type": "markdown",
   "id": "b9f7032d",
   "metadata": {},
   "source": [
    "## Пример 32"
   ]
  },
  {
   "cell_type": "code",
   "execution_count": 1,
   "id": "36068836",
   "metadata": {},
   "outputs": [
    {
     "ename": "ModuleNotFoundError",
     "evalue": "No module named 'matplotlib_venn'",
     "output_type": "error",
     "traceback": [
      "\u001b[1;31m---------------------------------------------------------------------------\u001b[0m",
      "\u001b[1;31mModuleNotFoundError\u001b[0m                       Traceback (most recent call last)",
      "Cell \u001b[1;32mIn [1], line 2\u001b[0m\n\u001b[0;32m      1\u001b[0m \u001b[38;5;66;03m# import modules\u001b[39;00m\n\u001b[1;32m----> 2\u001b[0m \u001b[38;5;28;01mfrom\u001b[39;00m \u001b[38;5;21;01mmatplotlib_venn\u001b[39;00m \u001b[38;5;28;01mimport\u001b[39;00m venn2, venn2_unweighted, venn2_circles, venn3, venn3_circles \n\u001b[0;32m      3\u001b[0m \u001b[38;5;28;01mfrom\u001b[39;00m \u001b[38;5;21;01mmatplotlib\u001b[39;00m \u001b[38;5;28;01mimport\u001b[39;00m pyplot \u001b[38;5;28;01mas\u001b[39;00m plt\n\u001b[0;32m      5\u001b[0m \u001b[38;5;66;03m# depict venn diagram\u001b[39;00m\n",
      "\u001b[1;31mModuleNotFoundError\u001b[0m: No module named 'matplotlib_venn'"
     ]
    }
   ],
   "source": [
    "# import modules\n",
    "from matplotlib_venn import venn2, venn2_unweighted, venn2_circles, venn3, venn3_circles \n",
    "from matplotlib import pyplot as plt\n",
    "\n",
    "# depict venn diagram\n",
    "venn2_unweighted(subsets=(40,20,15),\n",
    "                # 40 в множестве A без B, 20 в B без A и 15 одинаковых (пересечение)\n",
    "                set_labels=('Set A',\n",
    "                           'Set B'),\n",
    "                set_colors=(\"orange\",\n",
    "                           \"blue\"),alpha=0.7) # alpha=0.7 прозрачность цвета\n",
    "plt.show()"
   ]
  },
  {
   "cell_type": "markdown",
   "id": "7392908f",
   "metadata": {},
   "source": [
    "или"
   ]
  },
  {
   "cell_type": "code",
   "execution_count": 2,
   "id": "cb2a36a1",
   "metadata": {},
   "outputs": [
    {
     "ename": "ModuleNotFoundError",
     "evalue": "No module named 'matplotlib_venn'",
     "output_type": "error",
     "traceback": [
      "\u001b[1;31m---------------------------------------------------------------------------\u001b[0m",
      "\u001b[1;31mModuleNotFoundError\u001b[0m                       Traceback (most recent call last)",
      "Cell \u001b[1;32mIn [2], line 2\u001b[0m\n\u001b[0;32m      1\u001b[0m \u001b[38;5;66;03m# import modules\u001b[39;00m\n\u001b[1;32m----> 2\u001b[0m \u001b[38;5;28;01mfrom\u001b[39;00m \u001b[38;5;21;01mmatplotlib_venn\u001b[39;00m \u001b[38;5;28;01mimport\u001b[39;00m venn2, venn2_unweighted, venn2_circles, venn3, venn3_circles \n\u001b[0;32m      3\u001b[0m \u001b[38;5;28;01mfrom\u001b[39;00m \u001b[38;5;21;01mmatplotlib\u001b[39;00m \u001b[38;5;28;01mimport\u001b[39;00m pyplot \u001b[38;5;28;01mas\u001b[39;00m plt\n\u001b[0;32m      5\u001b[0m \u001b[38;5;66;03m# depict venn diagram\u001b[39;00m\n",
      "\u001b[1;31mModuleNotFoundError\u001b[0m: No module named 'matplotlib_venn'"
     ]
    }
   ],
   "source": [
    "# import modules\n",
    "from matplotlib_venn import venn2, venn2_unweighted, venn2_circles, venn3, venn3_circles \n",
    "from matplotlib import pyplot as plt\n",
    "\n",
    "# depict venn diagram\n",
    "venn2(subsets=(40,20,15),\n",
    "                # 40 в множестве A без B, 20 в B без A и 15 одинаковых (пересечение)\n",
    "                set_labels=('Set A',\n",
    "                           'Set B'),\n",
    "                set_colors=(\"orange\",\n",
    "                           \"blue\"),alpha=0.4) # alpha=0.4 прозрачность цвета\n",
    "\n",
    "# add outline (добавить чёрные границы)\n",
    "plt.show()"
   ]
  },
  {
   "cell_type": "markdown",
   "id": "00a846ee",
   "metadata": {},
   "source": [
    "## Пример 33"
   ]
  },
  {
   "cell_type": "code",
   "execution_count": 3,
   "id": "6b4e35af",
   "metadata": {},
   "outputs": [
    {
     "ename": "ModuleNotFoundError",
     "evalue": "No module named 'matplotlib_venn'",
     "output_type": "error",
     "traceback": [
      "\u001b[1;31m---------------------------------------------------------------------------\u001b[0m",
      "\u001b[1;31mModuleNotFoundError\u001b[0m                       Traceback (most recent call last)",
      "Cell \u001b[1;32mIn [3], line 2\u001b[0m\n\u001b[0;32m      1\u001b[0m \u001b[38;5;66;03m# import modules\u001b[39;00m\n\u001b[1;32m----> 2\u001b[0m \u001b[38;5;28;01mfrom\u001b[39;00m \u001b[38;5;21;01mmatplotlib_venn\u001b[39;00m \u001b[38;5;28;01mimport\u001b[39;00m venn2, venn2_unweighted, venn2_circles, venn3, venn3_circles \n\u001b[0;32m      3\u001b[0m \u001b[38;5;28;01mfrom\u001b[39;00m \u001b[38;5;21;01mmatplotlib\u001b[39;00m \u001b[38;5;28;01mimport\u001b[39;00m pyplot \u001b[38;5;28;01mas\u001b[39;00m plt\n\u001b[0;32m      5\u001b[0m \u001b[38;5;66;03m# depict venn diagram\u001b[39;00m\n",
      "\u001b[1;31mModuleNotFoundError\u001b[0m: No module named 'matplotlib_venn'"
     ]
    }
   ],
   "source": [
    "# import modules\n",
    "from matplotlib_venn import venn2, venn2_unweighted, venn2_circles, venn3, venn3_circles \n",
    "from matplotlib import pyplot as plt\n",
    "\n",
    "# depict venn diagram\n",
    "venn2 (subsets=([set([1,2,3,4,5]), set([2,5,4,6,7,9,15])]),\n",
    "                set_labels=('Set A',\n",
    "                           'Set B'),\n",
    "                set_colors=(\"orange\",\n",
    "                           \"blue\"),alpha=0.3) # alpha=0.3 прозрачность цвета\n",
    "plt.show()"
   ]
  },
  {
   "cell_type": "markdown",
   "id": "39f315e8",
   "metadata": {},
   "source": [
    "## Пример 34"
   ]
  },
  {
   "cell_type": "code",
   "execution_count": 4,
   "id": "536a2ec5",
   "metadata": {},
   "outputs": [
    {
     "ename": "ModuleNotFoundError",
     "evalue": "No module named 'matplotlib_venn'",
     "output_type": "error",
     "traceback": [
      "\u001b[1;31m---------------------------------------------------------------------------\u001b[0m",
      "\u001b[1;31mModuleNotFoundError\u001b[0m                       Traceback (most recent call last)",
      "Cell \u001b[1;32mIn [4], line 2\u001b[0m\n\u001b[0;32m      1\u001b[0m \u001b[38;5;66;03m# import modules\u001b[39;00m\n\u001b[1;32m----> 2\u001b[0m \u001b[38;5;28;01mfrom\u001b[39;00m \u001b[38;5;21;01mmatplotlib_venn\u001b[39;00m \u001b[38;5;28;01mimport\u001b[39;00m venn2, venn2_unweighted, venn2_circles, venn3, venn3_circles \n\u001b[0;32m      3\u001b[0m \u001b[38;5;28;01mfrom\u001b[39;00m \u001b[38;5;21;01mmatplotlib\u001b[39;00m \u001b[38;5;28;01mimport\u001b[39;00m pyplot \u001b[38;5;28;01mas\u001b[39;00m plt\n\u001b[0;32m      5\u001b[0m A\u001b[38;5;241m=\u001b[39m{\u001b[38;5;241m1\u001b[39m,\u001b[38;5;241m2\u001b[39m,\u001b[38;5;241m3\u001b[39m,\u001b[38;5;241m6\u001b[39m,\u001b[38;5;241m7\u001b[39m,\u001b[38;5;241m8\u001b[39m}\n",
      "\u001b[1;31mModuleNotFoundError\u001b[0m: No module named 'matplotlib_venn'"
     ]
    }
   ],
   "source": [
    "# import modules\n",
    "from matplotlib_venn import venn2, venn2_unweighted, venn2_circles, venn3, venn3_circles \n",
    "from matplotlib import pyplot as plt\n",
    "\n",
    "A={1,2,3,6,7,8}\n",
    "B={2,3,4,5,10}\n",
    "AN=len(A-B)\n",
    "BM=len(B-A)\n",
    "CI=len(A&B)\n",
    "print(AN,BM,CI)\n",
    "\n",
    "# depict venn diagram\n",
    "venn2 (subsets=(AN,BM,CI),\n",
    "                set_labels=('Set A',\n",
    "                           'Set B'),\n",
    "                set_colors=(\"orange\",\n",
    "                           \"blue\"),alpha=0.2) # alpha=0.2 прозрачность цвета\n",
    "# add outline\n",
    "venn2_circles(subsets=(AN,BM,CI))\n",
    "plt.show()"
   ]
  },
  {
   "cell_type": "markdown",
   "id": "76e2f2b4",
   "metadata": {},
   "source": [
    "## Пример 35"
   ]
  },
  {
   "cell_type": "code",
   "execution_count": 5,
   "id": "69f06450",
   "metadata": {},
   "outputs": [
    {
     "ename": "ModuleNotFoundError",
     "evalue": "No module named 'matplotlib_venn'",
     "output_type": "error",
     "traceback": [
      "\u001b[1;31m---------------------------------------------------------------------------\u001b[0m",
      "\u001b[1;31mModuleNotFoundError\u001b[0m                       Traceback (most recent call last)",
      "Cell \u001b[1;32mIn [5], line 2\u001b[0m\n\u001b[0;32m      1\u001b[0m \u001b[38;5;66;03m# import modules\u001b[39;00m\n\u001b[1;32m----> 2\u001b[0m \u001b[38;5;28;01mfrom\u001b[39;00m \u001b[38;5;21;01mmatplotlib_venn\u001b[39;00m \u001b[38;5;28;01mimport\u001b[39;00m venn2, venn2_unweighted, venn2_circles, venn3, venn3_circles \n\u001b[0;32m      3\u001b[0m \u001b[38;5;28;01mfrom\u001b[39;00m \u001b[38;5;21;01mmatplotlib\u001b[39;00m \u001b[38;5;28;01mimport\u001b[39;00m pyplot \u001b[38;5;28;01mas\u001b[39;00m plt\n\u001b[0;32m      5\u001b[0m set_1\u001b[38;5;241m=\u001b[39m{\u001b[38;5;241m1\u001b[39m,\u001b[38;5;241m2\u001b[39m,\u001b[38;5;241m3\u001b[39m,\u001b[38;5;241m4\u001b[39m}\n",
      "\u001b[1;31mModuleNotFoundError\u001b[0m: No module named 'matplotlib_venn'"
     ]
    }
   ],
   "source": [
    "# import modules\n",
    "from matplotlib_venn import venn2, venn2_unweighted, venn2_circles, venn3, venn3_circles \n",
    "from matplotlib import pyplot as plt\n",
    "\n",
    "set_1={1,2,3,4}\n",
    "set_2={3,4,5}\n",
    "set_3=set_1 ^ set_2\n",
    "venn3([set_1,set_2,set_3], set_colors=['steelblue','orange','green'], alpha=0.4)\n",
    "venn3_circles(subsets=(set_1,set_2,set_3))\n",
    "plt.show()"
   ]
  },
  {
   "cell_type": "markdown",
   "id": "8866773f",
   "metadata": {},
   "source": [
    "## Задание 12"
   ]
  },
  {
   "cell_type": "code",
   "execution_count": 6,
   "id": "85653a8b",
   "metadata": {
    "scrolled": true
   },
   "outputs": [
    {
     "ename": "ModuleNotFoundError",
     "evalue": "No module named 'matplotlib_venn'",
     "output_type": "error",
     "traceback": [
      "\u001b[1;31m---------------------------------------------------------------------------\u001b[0m",
      "\u001b[1;31mModuleNotFoundError\u001b[0m                       Traceback (most recent call last)",
      "Cell \u001b[1;32mIn [6], line 1\u001b[0m\n\u001b[1;32m----> 1\u001b[0m \u001b[38;5;28;01mfrom\u001b[39;00m \u001b[38;5;21;01mmatplotlib_venn\u001b[39;00m \u001b[38;5;28;01mimport\u001b[39;00m venn2, venn2_unweighted, venn2_circles, venn3, venn3_circles \n\u001b[0;32m      2\u001b[0m \u001b[38;5;28;01mfrom\u001b[39;00m \u001b[38;5;21;01mmatplotlib\u001b[39;00m \u001b[38;5;28;01mimport\u001b[39;00m pyplot \u001b[38;5;28;01mas\u001b[39;00m plt\n\u001b[0;32m      4\u001b[0m venn2_unweighted(subsets\u001b[38;5;241m=\u001b[39m(\u001b[38;5;241m77\u001b[39m,\u001b[38;5;241m777\u001b[39m,\u001b[38;5;241m7\u001b[39m), \u001b[38;5;66;03m# ой, как люблю семёрки\u001b[39;00m\n\u001b[0;32m      5\u001b[0m                 set_labels\u001b[38;5;241m=\u001b[39m(\u001b[38;5;124m'\u001b[39m\u001b[38;5;124mSet A\u001b[39m\u001b[38;5;124m'\u001b[39m,\n\u001b[0;32m      6\u001b[0m                            \u001b[38;5;124m'\u001b[39m\u001b[38;5;124mSet B\u001b[39m\u001b[38;5;124m'\u001b[39m),\n\u001b[0;32m      7\u001b[0m                 set_colors\u001b[38;5;241m=\u001b[39m(\u001b[38;5;124m\"\u001b[39m\u001b[38;5;124morange\u001b[39m\u001b[38;5;124m\"\u001b[39m,\n\u001b[0;32m      8\u001b[0m                            \u001b[38;5;124m\"\u001b[39m\u001b[38;5;124mblue\u001b[39m\u001b[38;5;124m\"\u001b[39m),alpha\u001b[38;5;241m=\u001b[39m\u001b[38;5;241m0.7\u001b[39m)\n",
      "\u001b[1;31mModuleNotFoundError\u001b[0m: No module named 'matplotlib_venn'"
     ]
    }
   ],
   "source": [
    "from matplotlib_venn import venn2, venn2_unweighted, venn2_circles, venn3, venn3_circles \n",
    "from matplotlib import pyplot as plt\n",
    "\n",
    "venn2_unweighted(subsets=(100,800,9),\n",
    "                set_labels=('Set A',\n",
    "                           'Set B'),\n",
    "                set_colors=(\"orange\",\n",
    "                           \"blue\"),alpha=0.7)\n",
    "plt.show()"
   ]
  },
  {
   "cell_type": "markdown",
   "id": "e8f0be63",
   "metadata": {},
   "source": [
    "## Задание 13"
   ]
  },
  {
   "cell_type": "code",
   "execution_count": 1,
   "id": "c343ada7",
   "metadata": {},
   "outputs": [
    {
     "ename": "ModuleNotFoundError",
     "evalue": "No module named 'matplotlib_venn'",
     "output_type": "error",
     "traceback": [
      "\u001b[1;31m---------------------------------------------------------------------------\u001b[0m",
      "\u001b[1;31mModuleNotFoundError\u001b[0m                       Traceback (most recent call last)",
      "Input \u001b[1;32mIn [1]\u001b[0m, in \u001b[0;36m<cell line: 1>\u001b[1;34m()\u001b[0m\n\u001b[1;32m----> 1\u001b[0m \u001b[38;5;28;01mfrom\u001b[39;00m \u001b[38;5;21;01mmatplotlib_venn\u001b[39;00m \u001b[38;5;28;01mimport\u001b[39;00m venn2, venn2_unweighted, venn2_circles, venn3, venn3_circles\n\u001b[0;32m      2\u001b[0m \u001b[38;5;28;01mfrom\u001b[39;00m \u001b[38;5;21;01mmatplotlib\u001b[39;00m \u001b[38;5;28;01mimport\u001b[39;00m pyplot \u001b[38;5;28;01mas\u001b[39;00m plt\n\u001b[0;32m      4\u001b[0m doc1\u001b[38;5;241m=\u001b[39m{\u001b[38;5;241m7\u001b[39m,\u001b[38;5;241m8\u001b[39m,\u001b[38;5;241m9\u001b[39m}\n",
      "\u001b[1;31mModuleNotFoundError\u001b[0m: No module named 'matplotlib_venn'"
     ]
    }
   ],
   "source": [
    "from matplotlib_venn import venn2, venn2_unweighted, venn2_circles, venn3, venn3_circles\n",
    "from matplotlib import pyplot as plt\n",
    "\n",
    "doc1={7,8,9}\n",
    "doc2={7,8,10}\n",
    "doc3={7,10,12}\n",
    "venn3([doc1,doc2,doc3], set_colors=['red','blue','green'], alpha=0.9)\n",
    "venn3_circles(subsets=(doc1,doc2,doc3))\n",
    "plt.show()"
   ]
  },
  {
   "cell_type": "code",
   "execution_count": null,
   "id": "50d32a5b",
   "metadata": {},
   "outputs": [],
   "source": []
  }
 ],
 "metadata": {
  "kernelspec": {
   "display_name": "Python 3 (ipykernel)",
   "language": "python",
   "name": "python3"
  },
  "language_info": {
   "codemirror_mode": {
    "name": "ipython",
    "version": 3
   },
   "file_extension": ".py",
   "mimetype": "text/x-python",
   "name": "python",
   "nbconvert_exporter": "python",
   "pygments_lexer": "ipython3",
   "version": "3.9.12"
  }
 },
 "nbformat": 4,
 "nbformat_minor": 5
}
