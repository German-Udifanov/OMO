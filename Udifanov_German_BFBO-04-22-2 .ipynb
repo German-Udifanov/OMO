{
 "cells": [
  {
   "cell_type": "code",
   "execution_count": null,
   "id": "3a4c238b",
   "metadata": {},
   "outputs": [],
   "source": [
    "#6\n",
    "a = [0,1,2,3,4,5,6,7,8,9]\n",
    "a[0:10:2]=reversed(a[0:10:2])\n",
    "print(a)"
   ]
  },
  {
   "cell_type": "code",
   "execution_count": null,
   "id": "15af730c",
   "metadata": {},
   "outputs": [],
   "source": [
    "#7\n",
    "x=1\n",
    "a=[]\n",
    "c=0\n",
    "while x<=10:\n",
    "    a.append(x)\n",
    "    x+=3\n",
    "d=a[::-1]\n",
    "for i in range(0 ,len(d)):\n",
    "    print(d[i])\n",
    "    "
   ]
  },
  {
   "cell_type": "code",
   "execution_count": 24,
   "id": "cef71f0f",
   "metadata": {},
   "outputs": [
    {
     "name": "stdout",
     "output_type": "stream",
     "text": [
      "рост\n",
      "вес\n",
      "пол\n"
     ]
    }
   ],
   "source": [
    "#8\n",
    "models=[\"рост\",\"вес\",\"пол\"]\n",
    "for model in models:\n",
    "    print(model)"
   ]
  },
  {
   "cell_type": "code",
   "execution_count": 26,
   "id": "223326a2",
   "metadata": {},
   "outputs": [
    {
     "name": "stdout",
     "output_type": "stream",
     "text": [
      "[2, 3, 4, 5, 6, 7, 8, 9, 10, 11, 12, 13, 14, 15]\n"
     ]
    }
   ],
   "source": [
    "#9\n",
    "li=list(range(2,16,1))\n",
    "print(li)"
   ]
  },
  {
   "cell_type": "code",
   "execution_count": 31,
   "id": "0bae5255",
   "metadata": {},
   "outputs": [
    {
     "name": "stdout",
     "output_type": "stream",
     "text": [
      "106\n",
      "81\n",
      "56\n",
      "31\n"
     ]
    }
   ],
   "source": [
    "#10\n",
    "for u in range(106,25,-25):\n",
    "    print(u)"
   ]
  },
  {
   "cell_type": "code",
   "execution_count": null,
   "id": "09e2a3ea",
   "metadata": {},
   "outputs": [],
   "source": [
    "#11\n",
    "x=int(input())\n",
    "text = input()\n",
    "abc='abcdefghijklmnopqrstuvwxyz'\n",
    "abc1=list(abc)\n",
    "for ch in text:       \n",
    "    b=(abc1.index(ch)+x)%26\n",
    "    d=abc1[b]\n",
    "    print(d) \n",
    "    \n",
    "    \n",
    "    \n"
   ]
  },
  {
   "cell_type": "markdown",
   "id": "2f56d565",
   "metadata": {},
   "source": [
    "# 1 Номер"
   ]
  },
  {
   "cell_type": "code",
   "execution_count": null,
   "id": "a9aa1dc5",
   "metadata": {},
   "outputs": [],
   "source": [
    "import math\n",
    "y = -(math.inf)\n",
    "c = math.inf\n",
    "x=int(input())\n",
    "if y<x<-5:\n",
    "    print(\"(-inf,5)\")\n",
    "elif -5<=x<=5:\n",
    "    print(\"[-5,5]\")\n",
    "elif 5<x<c:\n",
    "    print(\"(5,inf)\")\n",
    "    \n",
    " "
   ]
  },
  {
   "cell_type": "markdown",
   "id": "1f768222",
   "metadata": {},
   "source": [
    "# 2 Номер \n"
   ]
  },
  {
   "cell_type": "code",
   "execution_count": 2,
   "id": "b5504e27",
   "metadata": {},
   "outputs": [
    {
     "name": "stdout",
     "output_type": "stream",
     "text": [
      "1988\n",
      "Високосный\n"
     ]
    }
   ],
   "source": [
    "x=int(input())\n",
    "if x%4==0 and x%100!=0:\n",
    "    print(\"Високосный\")\n",
    "elif x%100==0 and x%400==0:\n",
    "    print(\"Високосный\")\n",
    "else:\n",
    "    print(\"Не Високосный\")\n"
   ]
  },
  {
   "cell_type": "markdown",
   "id": "9d7d1b05",
   "metadata": {},
   "source": [
    "# 3 Номер"
   ]
  },
  {
   "cell_type": "code",
   "execution_count": 3,
   "id": "fefa549b",
   "metadata": {},
   "outputs": [
    {
     "name": "stdout",
     "output_type": "stream",
     "text": [
      "[5, 'str', None, 6.25, True, [1, 20, 13, 44, 105]]\n"
     ]
    }
   ],
   "source": [
    "a = [5,'str',None,6.25,True,[1,20,13,44,105]]\n",
    "print(a)"
   ]
  },
  {
   "cell_type": "markdown",
   "id": "144ace90",
   "metadata": {},
   "source": [
    "# 4 Номер"
   ]
  },
  {
   "cell_type": "code",
   "execution_count": 4,
   "id": "1979bb2d",
   "metadata": {},
   "outputs": [
    {
     "name": "stdout",
     "output_type": "stream",
     "text": [
      "[2, 'a', [4, 'str', 6.25], {2, 3, 4, 5}, 12]\n",
      "[2, 'a', [4, 'str', 6.25], {2, 3, 4, 5}]\n"
     ]
    }
   ],
   "source": [
    "c_3=[2,'a',[4,'str',6.25],{5,2,3,3,4}]\n",
    "c_3.append(12)\n",
    "print(c_3)\n",
    "c_3.pop()\n",
    "print(c_3)"
   ]
  },
  {
   "cell_type": "markdown",
   "id": "aea75164",
   "metadata": {},
   "source": [
    "# 5 Номер"
   ]
  },
  {
   "cell_type": "code",
   "execution_count": 5,
   "id": "c375ef0d",
   "metadata": {},
   "outputs": [
    {
     "name": "stdout",
     "output_type": "stream",
     "text": [
      "1\n",
      "[124, 12, 5316]\n",
      "1\n",
      "False\n",
      "False\n",
      "[1, '2', True, 1001010101, [124, 12, 5316]]\n",
      "5\n"
     ]
    }
   ],
   "source": [
    "a = [1,'2',True,{14,124,14221,4214,21},[124,12,5316]]\n",
    "print(a[0])\n",
    "print(a[-1])\n",
    "print(a.index('2'))\n",
    "if 5 in a:\n",
    "    print('True')\n",
    "else:\n",
    "    print('False')\n",
    "if 'a' in a:\n",
    "    print('True')\n",
    "else:\n",
    "    print('False')\n",
    "a[3]=1001010101\n",
    "print(a)\n",
    "print(len(a))"
   ]
  },
  {
   "cell_type": "code",
   "execution_count": null,
   "id": "aa4ee391",
   "metadata": {},
   "outputs": [],
   "source": [
    "#12 \n",
    "a=list(input())\n",
    "b=list(reversed(a))\n",
    "c=0\n",
    "for i in range(len(a)):\n",
    "    if a[i]==b[i]:\n",
    "        c+=1\n",
    "if c==len(a):\n",
    "    print(\"polindrom\")\n",
    "else:\n",
    "    print(\"No\")"
   ]
  }
 ],
 "metadata": {
  "kernelspec": {
   "display_name": "Python 3 (ipykernel)",
   "language": "python",
   "name": "python3"
  },
  "language_info": {
   "codemirror_mode": {
    "name": "ipython",
    "version": 3
   },
   "file_extension": ".py",
   "mimetype": "text/x-python",
   "name": "python",
   "nbconvert_exporter": "python",
   "pygments_lexer": "ipython3",
   "version": "3.9.12"
  }
 },
 "nbformat": 4,
 "nbformat_minor": 5
}
